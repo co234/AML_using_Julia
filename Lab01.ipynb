{
 "cells": [
  {
   "cell_type": "markdown",
   "metadata": {},
   "source": [
    "## Tutorial 01 - Linear Regression and Logistic Regression"
   ]
  },
  {
   "cell_type": "markdown",
   "metadata": {},
   "source": [
    "**Objectives:**\n",
    "\n",
    "* To develop basic Julia programming skills.\n",
    "* To understand linear regression and least square.\n",
    "* To understand logistic regression and gradient descend.\n",
    "\n",
    "\n",
    "**Instructions:**   \n",
    "* If you are using Jupyter intalled on your computer, Go to File->Open. Drag and drop \"lab1.ipynb\" file to the home interface and click upload. \n",
    "* If you are using Google Colaboratory, Click File->Upload notebook, and and upload \"lab1.ipynb\" file\n",
    "* Complete exercises in \"lab1.ipynb\".\n",
    "* To run the cell you can press Ctrl-Enter or hit the Play button at the top.\n",
    "* Complete all exercises marked with **TODO**.\n",
    "* Save your file when you are done with the exercises, so you can show your tutor next\n",
    "\n",
    "**Authors:** \n",
    "* Kloe and Lydia "
   ]
  },
  {
   "cell_type": "markdown",
   "metadata": {},
   "source": [
    "## 1. Introduction to Julia"
   ]
  },
  {
   "cell_type": "markdown",
   "metadata": {},
   "source": [
    "### 1.1 Printing"
   ]
  },
  {
   "cell_type": "code",
   "execution_count": 1,
   "metadata": {},
   "outputs": [
    {
     "name": "stdout",
     "output_type": "stream",
     "text": [
      "5\n"
     ]
    }
   ],
   "source": [
    "\"\"\"\n",
    "Introduction to Julia\n",
    "\"\"\"\n",
    "\n",
    "println(5) # println automatically append \\n to the statement while print not"
   ]
  },
  {
   "cell_type": "code",
   "execution_count": 2,
   "metadata": {},
   "outputs": [
    {
     "name": "stdout",
     "output_type": "stream",
     "text": [
      "1160.0625text\n"
     ]
    }
   ],
   "source": [
    "# TODO: This one shold be modified\n",
    "println(1, 16, 1/16,\"text\")\n",
    "# Should be 1 16 1/16 \"text\""
   ]
  },
  {
   "cell_type": "code",
   "execution_count": 3,
   "metadata": {},
   "outputs": [
    {
     "name": "stdout",
     "output_type": "stream",
     "text": [
      "1 divided by 16 is 0.062500\n",
      "1 divided by 16 is 0.06\n",
      "1 divided by 16 is 0.06 and 1 divided by 32 is 0.03\n",
      "1 divided by 16 is 0.0625\n"
     ]
    }
   ],
   "source": [
    "using Printf\n",
    "# @printf allows number formatting but does not automatically append the \\n to statements\n",
    "@printf \"1 divided by 16 is %f\\n\" (1/16)\n",
    "@printf \"1 divided by 16 is %.2f\\n\" (1/16)\n",
    "@printf \"1 divided by 16 is %.2f and 1 divided by 32 is %.2f\\n\" (1/16) (1/32)\n",
    "\n",
    "println(\"1 divided by 16 is $(1/16)\")"
   ]
  },
  {
   "cell_type": "markdown",
   "metadata": {},
   "source": [
    "### 1.2 Numbers and Variables\n",
    "\n",
    "String, integer, float and bool (logical) variables are ubiquitous data types in Julia."
   ]
  },
  {
   "cell_type": "code",
   "execution_count": 4,
   "metadata": {},
   "outputs": [
    {
     "name": "stdout",
     "output_type": "stream",
     "text": [
      "Welcome to COMP5318 is String\n",
      "10 is Int64\n",
      "10.0 is Float64\n",
      "true is Bool\n"
     ]
    }
   ],
   "source": [
    "var1 = \"Welcome to COMP5318\" \n",
    "println(var1, \" is \",typeof(var1)) \n",
    "\n",
    "var2 = 10\n",
    "println(var2, \" is \",typeof(var2))\n",
    "\n",
    "var3 = 10.0 \n",
    "println(var3,  \" is \" ,typeof(var3))\n",
    "\n",
    "var4 = true\n",
    "println(var4,  \" is \" ,typeof(var4))"
   ]
  },
  {
   "cell_type": "markdown",
   "metadata": {},
   "source": [
    "### 1.3 Lists \n",
    "A list is a mutable, i.e. values can be changed (add/delete/update), sequence. Since each element has a fixed position, an index which starts from  0 can be used access elements. Although it can contain any type of variable, using heterogeneous variables is not customary. There are immutable data structures such as \"tuples\" and unordered data structures such as \"sets\" that we do not discuss in this tutorial. "
   ]
  },
  {
   "cell_type": "code",
   "execution_count": 5,
   "metadata": {},
   "outputs": [
    {
     "name": "stdout",
     "output_type": "stream",
     "text": [
      "[2, 10, 20, 30, 50, 80, 130, 210, 340]\n",
      "seq[1] is 2\n",
      "seq[3] is 20\n",
      "seq[1:3] is [2, 10, 20]\n",
      "seq[3:6] is [20, 30, 50, 80]\n",
      "seq[end] is 340\n",
      "seq[4:end-3] is [30, 50, 80]\n"
     ]
    }
   ],
   "source": [
    "seq = [2, 10, 20, 30, 50, 80, 130, 210, 340]\n",
    "\n",
    "println(seq)\n",
    "println(\"seq[1] is $(seq[1])\")\n",
    "println(\"seq[3] is $(seq[3])\")\n",
    "println(\"seq[1:3] is $(seq[1:3])\")\n",
    "println(\"seq[3:6] is $(seq[3:6])\")\n",
    "println(\"seq[end] is $(seq[end])\")\n",
    "println(\"seq[4:end-3] is $(seq[4:end-3])\")"
   ]
  },
  {
   "cell_type": "markdown",
   "metadata": {},
   "source": [
    "**Exercise 1.3.1**\n",
    "\n",
    "Use $length()$ to calculate the length (number of elements) of lists."
   ]
  },
  {
   "cell_type": "code",
   "execution_count": 6,
   "metadata": {},
   "outputs": [
    {
     "data": {
      "text/plain": [
       "9"
      ]
     },
     "execution_count": 6,
     "metadata": {},
     "output_type": "execute_result"
    }
   ],
   "source": [
    "length(seq)"
   ]
  },
  {
   "cell_type": "markdown",
   "metadata": {},
   "source": [
    "**Exercise 1.3.2**\n",
    "\n",
    "Use $append!()$ to add an element to the end of a list.\n",
    "\n",
    "For more methods of list objects such as $sort(), count()$ refer https://docs.julialang.org/en/v1/base/sort/index.html.\n",
    "Note that lists can be used as queues with some of these methods."
   ]
  },
  {
   "cell_type": "code",
   "execution_count": 7,
   "metadata": {},
   "outputs": [
    {
     "name": "stdout",
     "output_type": "stream",
     "text": [
      "[2, 10, 20, 30, 50, 80, 130, 210, 340, 30]"
     ]
    }
   ],
   "source": [
    "append!(seq,30)\n",
    "print(seq)"
   ]
  },
  {
   "cell_type": "code",
   "execution_count": 8,
   "metadata": {},
   "outputs": [
    {
     "name": "stdout",
     "output_type": "stream",
     "text": [
      "[\"Banana\", \"Cantaloupe\", \"Apple\", \"Tomato\"]\n"
     ]
    }
   ],
   "source": [
    "fruitSalad = [\"Banana\",\"Cantaloupe\",\"Apple\",\"Tomato\"]\n",
    "println(fruitSalad)"
   ]
  },
  {
   "cell_type": "code",
   "execution_count": null,
   "metadata": {},
   "outputs": [],
   "source": []
  }
 ],
 "metadata": {
  "kernelspec": {
   "display_name": "Julia 1.0.0",
   "language": "julia",
   "name": "julia-1.0"
  },
  "language_info": {
   "file_extension": ".jl",
   "mimetype": "application/julia",
   "name": "julia",
   "version": "1.0.0"
  }
 },
 "nbformat": 4,
 "nbformat_minor": 2
}
