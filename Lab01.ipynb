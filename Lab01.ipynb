{
 "cells": [
  {
   "cell_type": "markdown",
   "metadata": {},
   "source": [
    "## Tutorial 01 - Linear Regression and Logistic Regression"
   ]
  },
  {
   "cell_type": "markdown",
   "metadata": {},
   "source": [
    "**Objectives:**\n",
    "\n",
    "* To develop basic Julia programming skills.\n",
    "* To understand linear regression and least square.\n",
    "* To understand logistic regression and gradient descend.\n",
    "\n",
    "\n",
    "**Instructions:**   \n",
    "* If you are using Jupyter intalled on your computer, Go to File->Open. Drag and drop \"lab1.ipynb\" file to the home interface and click upload. \n",
    "* If you are using Google Colaboratory, Click File->Upload notebook, and and upload \"lab1.ipynb\" file\n",
    "* Complete exercises in \"lab1.ipynb\".\n",
    "* To run the cell you can press Ctrl-Enter or hit the Play button at the top.\n",
    "* Complete all exercises marked with **TODO**.\n",
    "* Save your file when you are done with the exercises, so you can show your tutor next\n",
    "\n",
    "Authors: Kloe Zhang and Lydia Gu"
   ]
  },
  {
   "cell_type": "markdown",
   "metadata": {},
   "source": [
    "## 1. Introduction to Julia"
   ]
  },
  {
   "cell_type": "markdown",
   "metadata": {},
   "source": [
    "### 1.1 Printing"
   ]
  },
  {
   "cell_type": "code",
   "execution_count": 1,
   "metadata": {},
   "outputs": [
    {
     "name": "stdout",
     "output_type": "stream",
     "text": [
      "5\n"
     ]
    }
   ],
   "source": [
    "\"\"\"\n",
    "Introduction to Julia\n",
    "\"\"\"\n",
    "\n",
    "println(5)"
   ]
  },
  {
   "cell_type": "code",
   "execution_count": 31,
   "metadata": {},
   "outputs": [
    {
     "name": "stdout",
     "output_type": "stream",
     "text": [
      "1160.0625text\n"
     ]
    }
   ],
   "source": [
    "println(1, 16, 1/16,\"text\")\n",
    "# Should be 1 16 1/16 \"text\""
   ]
  },
  {
   "cell_type": "code",
   "execution_count": 27,
   "metadata": {},
   "outputs": [
    {
     "name": "stdout",
     "output_type": "stream",
     "text": [
      "1 divided by 16 is 0.062500\n",
      "1 divided by 16 is 0.06\n",
      "1 divided by 16 is 0.06 and 1 divided by 32 is 0.03\n",
      "1 divided by 16 is 0.0625\n"
     ]
    }
   ],
   "source": [
    "using Printf\n",
    "@printf \"1 divided by 16 is %f\\n\" (1/16)\n",
    "@printf \"1 divided by 16 is %.2f\\n\" (1/16)\n",
    "@printf \"1 divided by 16 is %.2f and 1 divided by 32 is %.2f\\n\" (1/16) (1/32)\n",
    "\n",
    "println(\"1 divided by 16 is $(1/16)\")"
   ]
  },
  {
   "cell_type": "markdown",
   "metadata": {},
   "source": [
    "### 1.2 Numbers and Variables\n",
    "\n",
    "String, integer, float and bool (logical) variables are ubiquitous data types in Python."
   ]
  },
  {
   "cell_type": "code",
   "execution_count": null,
   "metadata": {},
   "outputs": [],
   "source": []
  }
 ],
 "metadata": {
  "kernelspec": {
   "display_name": "Julia 1.0.0",
   "language": "julia",
   "name": "julia-1.0"
  },
  "language_info": {
   "file_extension": ".jl",
   "mimetype": "application/julia",
   "name": "julia",
   "version": "1.0.0"
  }
 },
 "nbformat": 4,
 "nbformat_minor": 2
}
