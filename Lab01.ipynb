{
 "cells": [
  {
   "cell_type": "markdown",
   "metadata": {},
   "source": [
    "## Tutorial 01 - Linear Regression and Logistic Regression"
   ]
  },
  {
   "cell_type": "markdown",
   "metadata": {},
   "source": [
    "**Objectives:**\n",
    "\n",
    "* To develop basic Julia programming skills.\n",
    "* To understand linear regression and least square.\n",
    "* To understand logistic regression and gradient descend.\n",
    "\n",
    "\n",
    "**Instructions:**   \n",
    "* If you are using Jupyter intalled on your computer, Go to File->Open. Drag and drop \"lab1.ipynb\" file to the home interface and click upload. \n",
    "* If you are using Google Colaboratory, Click File->Upload notebook, and and upload \"lab1.ipynb\" file\n",
    "* Complete exercises in \"lab1.ipynb\".\n",
    "* To run the cell you can press Ctrl-Enter or hit the Play button at the top.\n",
    "* Complete all exercises marked with **TODO**.\n",
    "* Save your file when you are done with the exercises, so you can show your tutor next\n",
    "\n",
    "**Authors:** \n",
    "* Kloe and Lydia "
   ]
  },
  {
   "cell_type": "markdown",
   "metadata": {},
   "source": [
    "## 1. Introduction to Julia"
   ]
  },
  {
   "cell_type": "markdown",
   "metadata": {},
   "source": [
    "### 1.1 Printing"
   ]
  },
  {
   "cell_type": "code",
   "execution_count": 1,
   "metadata": {},
   "outputs": [
    {
     "name": "stdout",
     "output_type": "stream",
     "text": [
      "5\n"
     ]
    }
   ],
   "source": [
    "\"\"\"\n",
    "Introduction to Julia\n",
    "\"\"\"\n",
    "\n",
    "println(5) # println automatically append \\n to the statement while print not"
   ]
  },
  {
   "cell_type": "code",
   "execution_count": 2,
   "metadata": {},
   "outputs": [
    {
     "name": "stdout",
     "output_type": "stream",
     "text": [
      "1 16 0.0625 text"
     ]
    }
   ],
   "source": [
    "using Printf\n",
    "@printf \"%d %d %s %s\" 1 16 1/16 \"text\"\n",
    "# Should be 1 16 1/16 \"text\""
   ]
  },
  {
   "cell_type": "code",
   "execution_count": 3,
   "metadata": {},
   "outputs": [
    {
     "name": "stdout",
     "output_type": "stream",
     "text": [
      "1 divided by 16 is 0.062500\n",
      "1 divided by 16 is 0.06\n",
      "1 divided by 16 is 0.06 and 1 divided by 32 is 0.03\n",
      "1 divided by 16 is 0.0625\n"
     ]
    }
   ],
   "source": [
    "# @printf allows number formatting but does not automatically append the \\n to statements\n",
    "@printf \"1 divided by 16 is %f\\n\" (1/16)\n",
    "@printf \"1 divided by 16 is %.2f\\n\" (1/16)\n",
    "@printf \"1 divided by 16 is %.2f and 1 divided by 32 is %.2f\\n\" (1/16) (1/32)\n",
    "\n",
    "println(\"1 divided by 16 is $(1/16)\")"
   ]
  },
  {
   "cell_type": "markdown",
   "metadata": {},
   "source": [
    "### 1.2 Numbers and Variables\n",
    "\n",
    "String, integer, float and bool (logical) variables are ubiquitous data types in Julia."
   ]
  },
  {
   "cell_type": "code",
   "execution_count": 4,
   "metadata": {},
   "outputs": [
    {
     "name": "stdout",
     "output_type": "stream",
     "text": [
      "Welcome to COMP5318 is String\n",
      "10 is Int64\n",
      "10.0 is Float64\n",
      "true is Bool\n"
     ]
    }
   ],
   "source": [
    "var1 = \"Welcome to COMP5318\" \n",
    "println(var1, \" is \", typeof(var1)) \n",
    "\n",
    "var2 = 10\n",
    "println(var2, \" is \", typeof(var2))\n",
    "\n",
    "var3 = 10.0 \n",
    "println(var3, \" is \", typeof(var3))\n",
    "\n",
    "var4 = true\n",
    "println(var4, \" is \", typeof(var4))"
   ]
  },
  {
   "cell_type": "markdown",
   "metadata": {},
   "source": [
    "### 1.3 Lists \n",
    "A list is a mutable, i.e. values can be changed (add/delete/update), sequence. Since each element has a fixed position, an index which starts from  0 can be used access elements. Although it can contain any type of variable, using heterogeneous variables is not customary. There are immutable data structures such as \"tuples\" and unordered data structures such as \"sets\" that we do not discuss in this tutorial. "
   ]
  },
  {
   "cell_type": "code",
   "execution_count": 5,
   "metadata": {},
   "outputs": [
    {
     "name": "stdout",
     "output_type": "stream",
     "text": [
      "seq = [2, 10, 20, 30, 50, 80, 130, 210, 340]\n",
      "seq[1] = 2\n",
      "seq[3] = 20\n",
      "seq[1:3] = [2, 10, 20]\n",
      "seq[3:6] = [20, 30, 50, 80]\n",
      "seq[end] = 340\n",
      "seq[4:end-3] = [30, 50, 80]\n"
     ]
    }
   ],
   "source": [
    "seq = [2, 10, 20, 30, 50, 80, 130, 210, 340]\n",
    "\n",
    "println(\"seq = \", seq)\n",
    "println(\"seq[1] = $(seq[1])\")\n",
    "println(\"seq[3] = $(seq[3])\")\n",
    "println(\"seq[1:3] = $(seq[1:3])\")\n",
    "println(\"seq[3:6] = $(seq[3:6])\")\n",
    "println(\"seq[end] = $(seq[end])\")\n",
    "println(\"seq[4:end-3] = $(seq[4:end-3])\")"
   ]
  },
  {
   "cell_type": "markdown",
   "metadata": {},
   "source": [
    "**Exercise 1.3.1**\n",
    "\n",
    "Use $length()$ to calculate the length (number of elements) of lists."
   ]
  },
  {
   "cell_type": "code",
   "execution_count": 6,
   "metadata": {},
   "outputs": [
    {
     "data": {
      "text/plain": [
       "9"
      ]
     },
     "execution_count": 6,
     "metadata": {},
     "output_type": "execute_result"
    }
   ],
   "source": [
    "length(seq)"
   ]
  },
  {
   "cell_type": "markdown",
   "metadata": {},
   "source": [
    "**Exercise 1.3.2**\n",
    "\n",
    "Use $append!()$ to add an element to the end of a list.\n",
    "\n",
    "For more methods of list objects such as $sort(), count()$ refer https://docs.julialang.org/en/v1/base/sort/index.html.\n",
    "Note that lists can be used as queues with some of these methods."
   ]
  },
  {
   "cell_type": "code",
   "execution_count": 7,
   "metadata": {},
   "outputs": [
    {
     "name": "stdout",
     "output_type": "stream",
     "text": [
      "[2, 10, 20, 30, 50, 80, 130, 210, 340, 30]"
     ]
    }
   ],
   "source": [
    "append!(seq, 30)\n",
    "print(seq)"
   ]
  },
  {
   "cell_type": "code",
   "execution_count": 8,
   "metadata": {},
   "outputs": [
    {
     "name": "stdout",
     "output_type": "stream",
     "text": [
      "[\"Banana\", \"Cantaloupe\", \"Apple\", \"Tomato\"]\n",
      "[\"Banana\", \"Cantaloupe\", \"Apple\", \"Papaya\", \"Grapes\"]\n",
      "false"
     ]
    }
   ],
   "source": [
    "fruitSalad = [\"Banana\", \"Cantaloupe\", \"Apple\", \"Tomato\"]\n",
    "println(fruitSalad)\n",
    "\n",
    "deleteat!(fruitSalad, findfirst(isequal(\"Tomato\"), fruitSalad)) # works only to delete the first element\n",
    "push!(fruitSalad, \"Papaya\")\n",
    "append!(fruitSalad, [\"Grapes\"])\n",
    "println(fruitSalad)\n",
    "\n",
    "print(\"Strawberry\" in fruitSalad)"
   ]
  },
  {
   "cell_type": "markdown",
   "metadata": {},
   "source": [
    "### 1.4 Arithmetic Operators"
   ]
  },
  {
   "cell_type": "code",
   "execution_count": 9,
   "metadata": {},
   "outputs": [
    {
     "name": "stdout",
     "output_type": "stream",
     "text": [
      "x=10, y=20, z=30"
     ]
    }
   ],
   "source": [
    "x = 10\n",
    "y = 20\n",
    "z = x + y\n",
    "@printf \"x=%d, y=%d, z=%d\" x y z #alternative for printing: println(\"x=$x, y=$y, z=$z\")"
   ]
  },
  {
   "cell_type": "markdown",
   "metadata": {},
   "source": [
    "**Exercise 1.4.1**\n",
    "Identify the use of following arithmetic operators.  $ +, -, *, /, \\%, \\hat{}, // $"
   ]
  },
  {
   "cell_type": "code",
   "execution_count": 10,
   "metadata": {},
   "outputs": [
    {
     "name": "stdout",
     "output_type": "stream",
     "text": [
      "Alan Turing"
     ]
    }
   ],
   "source": [
    "#string operations\n",
    "firstName = \"Alan\"\n",
    "lastName = \"Turing\"\n",
    "fullName = firstName * \" \" * lastName  #alternative: fullName = string(firstName, \" \", lastName)\n",
    "print(fullName) "
   ]
  },
  {
   "cell_type": "markdown",
   "metadata": {},
   "source": [
    "**Exercise 1.5.1**\n",
    "Identify the use of following relational operators.  $==, !=, >, <, >=, <=$"
   ]
  },
  {
   "cell_type": "code",
   "execution_count": 11,
   "metadata": {},
   "outputs": [
    {
     "name": "stdout",
     "output_type": "stream",
     "text": [
      "y is non-positive"
     ]
    }
   ],
   "source": [
    "x = 2\n",
    "y= 1.1*(x^2) - 15*x - 20\n",
    "if y>0      \n",
    "    print(\"y is positive\")\n",
    "else\n",
    "    print(\"y is non-positive\")\n",
    "end"
   ]
  },
  {
   "cell_type": "code",
   "execution_count": 12,
   "metadata": {},
   "outputs": [
    {
     "name": "stdout",
     "output_type": "stream",
     "text": [
      "y is negative"
     ]
    }
   ],
   "source": [
    "x = 2\n",
    "y= 1.1*(x^2) - 15*x - 20\n",
    "if y==0\n",
    "    print(\"y is zero\")\n",
    "elseif y>0\n",
    "    print(\"y is positive\")\n",
    "else\n",
    "    print(\"y is negative\")\n",
    "end"
   ]
  },
  {
   "cell_type": "code",
   "execution_count": 13,
   "metadata": {},
   "outputs": [
    {
     "name": "stdout",
     "output_type": "stream",
     "text": [
      "In range!"
     ]
    }
   ],
   "source": [
    "x = 10\n",
    "a, b = -15, 15\n",
    "if x>a && x<b #alternative: a<x<b\n",
    "    print(\"In range!\")\n",
    "else\n",
    "    print(\"Out of range!\")\n",
    "end"
   ]
  },
  {
   "cell_type": "markdown",
   "metadata": {},
   "source": [
    "**Exercise 1.5.2**\n",
    "\n",
    "Identify the use of following logical operators: $\\mathrm{and, or}$ and $\\mathrm{ not}$"
   ]
  },
  {
   "cell_type": "markdown",
   "metadata": {},
   "source": [
    "### 1.6 Mathematical Functions"
   ]
  },
  {
   "cell_type": "code",
   "execution_count": 14,
   "metadata": {},
   "outputs": [
    {
     "name": "stdout",
     "output_type": "stream",
     "text": [
      "1.0"
     ]
    }
   ],
   "source": [
    "theta = 2*pi\n",
    "y = cos(theta)^2 + sin(theta)^2\n",
    "print(y)"
   ]
  },
  {
   "cell_type": "markdown",
   "metadata": {},
   "source": [
    "### 1.7 Iterations"
   ]
  },
  {
   "cell_type": "code",
   "execution_count": 15,
   "metadata": {},
   "outputs": [
    {
     "name": "stdout",
     "output_type": "stream",
     "text": [
      "45"
     ]
    }
   ],
   "source": [
    "sum_var = 0\n",
    "for i in 1:9\n",
    "    sum_var = sum_var + i #: alternative sum_var += i\n",
    "end\n",
    "print(sum_var)"
   ]
  },
  {
   "cell_type": "code",
   "execution_count": 16,
   "metadata": {},
   "outputs": [
    {
     "name": "stdout",
     "output_type": "stream",
     "text": [
      "30.5"
     ]
    }
   ],
   "source": [
    "x = [10, 20, 30, -35, 5.5]\n",
    "sum_var = 0\n",
    "for i in x\n",
    "    sum_var = sum_var + i\n",
    "end\n",
    "print(sum_var)"
   ]
  },
  {
   "cell_type": "markdown",
   "metadata": {},
   "source": [
    "**Exercise 1.7.1**\n",
    "Append the above program to add all positive numbers in list x."
   ]
  },
  {
   "cell_type": "code",
   "execution_count": 17,
   "metadata": {},
   "outputs": [
    {
     "name": "stdout",
     "output_type": "stream",
     "text": [
      "65.5"
     ]
    }
   ],
   "source": [
    "sum_var = 0\n",
    "for item in x\n",
    "    if item > 0\n",
    "        sum_var = sum_var + item\n",
    "    end\n",
    "end\n",
    "print(sum_var)"
   ]
  },
  {
   "cell_type": "code",
   "execution_count": 18,
   "metadata": {},
   "outputs": [
    {
     "name": "stdout",
     "output_type": "stream",
     "text": [
      "[1, 2, 3, 4, 5, 6, 7, 8, 9]\n",
      "[1, 4, 9, 16, 25, 36, 49, 64, 81]\n"
     ]
    }
   ],
   "source": [
    "x = [i for i in 1:9]\n",
    "println(x)\n",
    "\n",
    "y = [i^2 for i in x] # or [i^2 for i in 1:9]\n",
    "println(y)"
   ]
  },
  {
   "cell_type": "markdown",
   "metadata": {},
   "source": [
    "**Exercise 1.7.2**\n",
    "Let $\\mathbf{x} = [3, 1, 2, 4]$ and $\\mathbf{y} = [1, 2, 1, 2]$. Calculate the similarity between $\\mathbf{x}$ and $\\mathbf{y}$ using,\n",
    "\n",
    "1) Cosine distance defined as $\\mathsf{sim}_{dot}(\\mathbf{x,y})  = \\mathbf{x \\cdot y/||x|| ||y||}$\n",
    "\n",
    "2) Eucledian distance (a.k.a $\\mathsf{L}^2$ distance) defined as $\\mathsf{sim}_{Euc}(\\mathbf{x,y})  = \\| \\mathbf{x} - \\mathbf{y}\\|_2 = \\sqrt{\\sum_{i=1}^{N} ( x_i - y_i)^2}$\n",
    "\n",
    "(Refer to lecture 1)."
   ]
  },
  {
   "cell_type": "code",
   "execution_count": 19,
   "metadata": {
    "scrolled": true
   },
   "outputs": [
    {
     "name": "stdout",
     "output_type": "stream",
     "text": [
      "sim_cos = 0.866\n",
      "sim_euc = 3.162"
     ]
    }
   ],
   "source": [
    "using LinearAlgebra\n",
    "\n",
    "x=[3,1,2,4]\n",
    "y=[1,2,1,2]\n",
    "\n",
    "sim_cos = dot(x, y) / sqrt(dot(x, x) * dot(y, y))\n",
    "sim_euc = sqrt(sum((xi - yi) ^ 2 for (xi, yi) in zip(x, y)))\n",
    "\n",
    "@printf \"sim_cos = %.3f\" sim_cos #alternative to print('sim_cos = %.3f' % sim_cos)\n",
    "@printf \"\\n\"\n",
    "@printf \"sim_euc = %.3f\" sim_euc"
   ]
  },
  {
   "cell_type": "markdown",
   "metadata": {},
   "source": [
    "### 1.8 Plotting with Plots Library\n",
    "\n",
    "Plotting in Julia is available through external packages.\n",
    "\n",
    "`Plots.jl` is a plotting metapackage which brings many different plotting packages under a single API, making it easy to swap between plotting \"backends\". Installation is as follows: \n",
    "\n",
    "```\n",
    "using Pkg\n",
    "Pkg.add(\"Plots\")\n",
    "```"
   ]
  },
  {
   "cell_type": "code",
   "execution_count": 28,
   "metadata": {},
   "outputs": [
    {
     "data": {
      "image/png": "[encoded data removed]"
     },
     "execution_count": 28,
     "metadata": {},
     "output_type": "execute_result"
    }
   ],
   "source": [
    "using Plots\n",
    "\n",
    "t = [i/50 for i in 1:500] #generate values from 0 to 10\n",
    "f = 1\n",
    "y = [sin(2*pi*f*i)*exp(-0.5*i) for i in t] # y = sin(2Pi*f*t)*exp(-t/2)\n",
    "\n",
    "#plotly() # Choose the Plotly.jl backend for web interactivity\n",
    "#Pkg.add(\"PyPlot\") # Install a different backend\n",
    "pyplot()  # Switch to using the PyPlot.jl backend\n",
    "plot(t, y, seriestype=:scatter, xaxis=\"t (s)\", yaxis=\"y\",\n",
    "     title=@sprintf(\"Damped Sine Wave with %.1f Hz frequency\", f))"
   ]
  },
  {
   "cell_type": "markdown",
   "metadata": {},
   "source": [
    "**Exercise 1.8.1**\n",
    "Change *scatter* to *plot*."
   ]
  },
  {
   "cell_type": "markdown",
   "metadata": {},
   "source": [
    "**Exercise 1.8.2**\n",
    "Highligh data points, s.t. $|y|>0.5$ in a different marker colour."
   ]
  },
  {
   "cell_type": "markdown",
   "metadata": {},
   "source": [
    "### 1.9 Data Structures"
   ]
  },
  {
   "cell_type": "markdown",
   "metadata": {},
   "source": [
    "**Exercise 1.9.1** (Demanding question)\n",
    "Given a list of words, group all of them based on the following similarity metric.\n",
    "\n",
    "\n",
    "\\begin{equation}   \n",
    "  \\mathsf{sim(word_1, word_2)} = \\left\\{\n",
    "  \\begin{array}{@{}ll@{}}\n",
    "    1, & \\text{if letters in only } \\mathsf{word_1} \\text{ are used to form } \\mathsf{ word_2 } \\text{ and vice versa } \\textit{(iff)}\\\\\n",
    "    0, & \\text{otherwise}\n",
    "  \\end{array}\\right.\n",
    "\\end{equation}\n",
    "\n",
    "E.g. 'arts', 'rats', 'star', 'tars' and 'start' are similar words.\n",
    "\n",
    "Choose an appropriate data structure and analyze computational complexity of your algorithm."
   ]
  },
  {
   "cell_type": "code",
   "execution_count": 21,
   "metadata": {},
   "outputs": [
    {
     "ename": "LoadError",
     "evalue": "syntax: missing separator in array expression",
     "output_type": "error",
     "traceback": [
      "syntax: missing separator in array expression",
      ""
     ]
    }
   ],
   "source": [
    "word_list = [\"arts\", \"rats\", \"star\", \"tars\", \"start\", \"pat\", \"allergy\", \"lager\", \"largely\", \"regally\", \"apt\", \\\n",
    "             \"potters\", \"tap\", \"bluest\", \"tap\", \"bluets\", \"retraced\", \"gallery\",\"bustle\", \"sublet\", \"subtle\", \"grab\"]\n",
    "\n",
    "###########################\n",
    "\n",
    "## TO DO"
   ]
  },
  {
   "cell_type": "markdown",
   "metadata": {},
   "source": [
    "Notes: Additionally, read about anagram, regular expressions, grep command and Jaccard similarity"
   ]
  },
  {
   "cell_type": "markdown",
   "metadata": {},
   "source": [
    "Julia:\n",
    "* object-oriented\n",
    "* dynamically typed\n",
    "* compiled to efficient native code (not interpeted)\n",
    "* functional programming is supported"
   ]
  },
  {
   "cell_type": "markdown",
   "metadata": {},
   "source": [
    "## 2. Linear Regression\n",
    "\n",
    "* Introduction to linear regression and least square"
   ]
  },
  {
   "cell_type": "markdown",
   "metadata": {},
   "source": [
    "**Advertising Example:**\n",
    "* Let $X$ and $Y$ be the variables of TV advertising budget and product sales, respectively. $\\{(x_1,y_1),\\cdots,(x_n,y_n)\\}$ be $n$ observation pairs.\n",
    "* Our target is to estimate a function $f$ such that $f(X)$ can predict $Y$ very well.\n",
    "* The most common approach involves minimizing the least squares criterion.\n",
    "* Note that the dataset is downloaded from http://www-bcf.usc.edu/~gareth/ISL/Advertising.csv."
   ]
  },
  {
   "cell_type": "markdown",
   "metadata": {},
   "source": [
    "### 2.1 Load Advertising Data"
   ]
  },
  {
   "cell_type": "code",
   "execution_count": 22,
   "metadata": {},
   "outputs": [],
   "source": [
    "# TODO"
   ]
  },
  {
   "cell_type": "markdown",
   "metadata": {},
   "source": [
    "### 2.2 Linear Regression Model"
   ]
  },
  {
   "cell_type": "markdown",
   "metadata": {},
   "source": [
    "* If we roughly assume that $f(x)= \\beta_0 x + \\beta_1$, then our goal is to estimate the coefficients $\\beta_0$ and $\\beta_1$. Here, the model is linear with respect to the coefficients $\\beta_0$ and $\\beta_1$.\n",
    "* Let $\\hat{y}_i = \\beta_0 x_i + \\beta_1$ be the prediction of feature $x_i$, and $e_i = y_i - \\hat{y}_i$ represent the difference between the $i$-th observation response value and the response value predicted by our linear model.\n",
    "* Then, we can estimate the coefficients by minimizing the residual sum of squares (RSS): $RSS = e_1^2 + e_2^2 + \\cdots + e_n^2$, or equivalently as,$RSS = (y_1-\\beta_0 x_1-\\beta_1)^2 + \\cdots + (y_n-\\beta_0 x_n-\\beta_1)^2$.\n",
    "* It is easy to derive that the minimizers are $\\hat{\\beta}_0 = \\frac{\\sum_{i=1}^n (x_i-\\bar{x})(y_i-\\bar{y})}{\\sum_{i=1}^n (x_i-\\bar{x})^2}$ and $\\hat{\\beta}_1=\\bar{y}-\\hat{\\beta}_0\\bar{x}$, where $\\bar{x}=\\frac{1}{n}\\sum_{i=1}^n x_i$ and $\\bar{y}=\\frac{1}{n}\\sum_{i=1}^n y_i$."
   ]
  },
  {
   "cell_type": "markdown",
   "metadata": {},
   "source": [
    "**Exercise 2.2.1** (Derivations of above minimizers)\n",
    "\n",
    "* Hints: This can be done by setting the gradients to 0. We can obtain 2 gradient equations:\n",
    "* $\\frac{\\partial RSS}{\\partial \\beta_0} = -2\\sum_{i=1}^n (y_i-\\beta_0 x_i - \\beta_1)x_i = 0$.\n",
    "* $\\frac{\\partial RSS}{\\partial \\beta_1} = -2\\sum_{i=1}^n (y_i-\\beta_0 x_i - \\beta_1) = 0$.\n",
    "* Solving above equations, we can get the results. \n",
    "* Note that all least square problem can have similar gradient equations."
   ]
  },
  {
   "cell_type": "markdown",
   "metadata": {},
   "source": [
    "**Exercise 2.2.2** (Coefficient Estimation of Advertising Examples)\n",
    "* To estimate the coefficients for the advertising data in above linear model.\n",
    "* The final result is $\\beta_0 = 0.0475$ and $\\beta_1=7.03$."
   ]
  },
  {
   "cell_type": "code",
   "execution_count": 23,
   "metadata": {},
   "outputs": [],
   "source": [
    "# TODO"
   ]
  },
  {
   "cell_type": "markdown",
   "metadata": {},
   "source": [
    "### 2.3 Matrix Form\n",
    "* Denote $\\mathbf{x}$ as a design matrix $\\begin{bmatrix}\n",
    "    x_1       & x_2 & x_3 & \\dots & x_n \\\\\n",
    "    1       & 1 & 1 & \\dots & 1\n",
    "\\end{bmatrix}^{\\top}$, $\\mathbf{y} = [y_1,\\cdots,y_n]^{\\top}$, $\\mathbf{\\beta} = [\\beta_0,\\beta_1]^{\\top}$.\n",
    "* We have the predictions $\\hat{\\mathbf{y}} = \\mathbf{x} \\mathbf{\\beta}$.\n",
    "* Then, $RSS = \\|\\mathbf{y}-\\hat{\\mathbf{y}}\\|_2^2=\\|\\mathbf{y}- \\mathbf{x}\\mathbf{\\beta}\\|_2^2$, where $\\|\\cdot\\|_2$ is $l_2$ norm of a vector.\n",
    "* If we assume that $\\mathbf{x}^{\\top}\\mathbf{x}$ is non-singular. The minimizers are $\\mathbf{\\beta}=(\\mathbf{x}^{\\top}\\mathbf{x})^{-1}\\mathbf{x}^{\\top}\\mathbf{y}$."
   ]
  },
  {
   "cell_type": "markdown",
   "metadata": {},
   "source": [
    "**Exercise 2.3.1** (Derivations of the minimizers)\n",
    "* Similarly, we compute the gradient of $RSS$ with respect to $\\mathbf{\\beta}$. Then, let the gradient be $\\mathbf{0}$."
   ]
  },
  {
   "cell_type": "markdown",
   "metadata": {},
   "source": [
    "**Exercise 2.3.2** (Coefficient Estimation of Advertising Examples)\n",
    "* To estimate the coefficients for the advertising data according to above derivations.\n",
    "* The final result is also $\\mathbf{\\beta} = [0.0475,7.03]^{\\top}$."
   ]
  },
  {
   "cell_type": "code",
   "execution_count": 24,
   "metadata": {},
   "outputs": [],
   "source": [
    "# TODO"
   ]
  },
  {
   "cell_type": "markdown",
   "metadata": {},
   "source": [
    "### 2.4 Gradient Descent Method\n",
    "* We can also solve this linear regression problem using gradient descent method.\n",
    "* In gradient decent method, given an objective function $R(\\mathbf{\\beta})$, such as RSS in above example, we update $\\mathbf{\\beta}$ as $\\mathbf{\\beta}^{(k+1)} = \\mathbf{\\beta}^{(k)}-\\lambda^{(k)}\\bigtriangledown R(\\mathbf{\\beta^{(k)}})$. Here, $\\lambda^{(k)}$ are the step sizes or learning rates.\n",
    "* This process will generate a minimizing sequence $\\mathbf{\\beta}^{(k)}, k=1,2,\\cdots$, which satisfy $R(\\mathbf{\\beta}^{(k+1)}) \\leq R(\\mathbf{\\beta}^{(k)})$. Also, it may finally achieve the optimal minimizer."
   ]
  },
  {
   "cell_type": "markdown",
   "metadata": {},
   "source": [
    "**Exercise 2.4.2** (Coefficient Estimation of Advertising Examples)\n",
    "* To estimate the coefficients for the advertising data using gradient descent method.\n",
    "* Note that this method can achieve a solution close to above mentioned methods by carefully choosing the learning rate and maximum number of iterations. Using following parameters, the result is $[0.0478, 6.99]^{\\top}$."
   ]
  },
  {
   "cell_type": "code",
   "execution_count": 25,
   "metadata": {},
   "outputs": [],
   "source": [
    "# TODO"
   ]
  },
  {
   "cell_type": "markdown",
   "metadata": {},
   "source": [
    "## 3. Logistic Regression\n",
    "* Introduction to logistic regression. In above advertising example, we try to regress real values of sales by using linear models. Here, we consider the classification problem in which target variable $Y$ are categorical.\n",
    "* We also let $X$ and $Y$ be the variables of features and targets (labels), respectively. \n",
    "* We are often given observations $\\{(x_1,y_1),\\cdots,(x_n,y_n)\\}$. Our target is to learn a classifer $f$ such that $f(X)$ can predict the label $Y$ very well."
   ]
  },
  {
   "cell_type": "markdown",
   "metadata": {},
   "source": [
    "**Iris Example:**\n",
    "* In this example, we try to classify types of iris plant. The dataset is downloaded from UCI Machine Learning Repository.\n",
    "* The Iris dataset includes three types of iris plant: Setosa, Versicolour, and Virginica. Each type include 50 examples. \n",
    "* Here, we load the data for Setosa and Versicolour, and try to distinguish them by training a binary classfier."
   ]
  },
  {
   "cell_type": "markdown",
   "metadata": {},
   "source": [
    "### 3.1 Load Iris Data"
   ]
  },
  {
   "cell_type": "code",
   "execution_count": 26,
   "metadata": {},
   "outputs": [],
   "source": [
    "# TODO"
   ]
  },
  {
   "cell_type": "markdown",
   "metadata": {},
   "source": [
    "### 3.2 Logistic Regression Model"
   ]
  },
  {
   "cell_type": "markdown",
   "metadata": {},
   "source": [
    "* In logistic regression, we let the classifier be $f(x,w) = \\log \\frac{p(y=1|x,w)}{p(y=-1|x,w)}$. We can see, if $p(y=1|x,w)>p(y=-1|x,w)$, $f(x,w)>0$ and $x$ should be classified to $1$; otherwise, $-1$.\n",
    "* Then, it is easy to get $p(y|x,w)=\\frac{1}{1+\\exp(-yf(x,w))}$.\n",
    "* Given the training data $\\{(x_1,y_1),\\cdots,(x_n,y_n)\\}$, we can identify the classifier by maximize the likelihood, i.e., $ML=\\Pi_{i=1}^n p(y_i|x_i,w)=\\Pi_{i=1}^n \\frac{1}{1+\\exp(-y_if(x_i,w))}$; or equivalently, by minimizing the negative log likelihood (NLL), i.e., $NLL=\\sum_{i=1}^n \\log(1+\\exp(-y_if(x_i,w)))$.\n",
    "* In the iris example, we also assume that $f$ is linear with respect to parameters $w$; that is, $f(x,w)=w^{\\top}x$.\n",
    "* In order to train the classifier, we often use the gradient descent method."
   ]
  },
  {
   "cell_type": "markdown",
   "metadata": {},
   "source": [
    "**Exercise 2.4.2** (Estimating Parameters of Iris Example)\n",
    "* To estimate the parameters by using the gradient descent method.\n",
    "* Note that learning rate and maxiter should be tuned to achieve best results. The linear classifier may not work well."
   ]
  },
  {
   "cell_type": "code",
   "execution_count": 27,
   "metadata": {},
   "outputs": [],
   "source": [
    "# TODO"
   ]
  },
  {
   "cell_type": "markdown",
   "metadata": {},
   "source": [
    "## Next Week"
   ]
  },
  {
   "cell_type": "markdown",
   "metadata": {},
   "source": [
    "* Learn to use a convex optimization toolbox."
   ]
  },
  {
   "cell_type": "code",
   "execution_count": null,
   "metadata": {},
   "outputs": [],
   "source": []
  }
 ],
 "metadata": {
  "kernelspec": {
   "display_name": "Julia 1.0.1",
   "language": "julia",
   "name": "julia-1.0"
  },
  "language_info": {
   "file_extension": ".jl",
   "mimetype": "application/julia",
   "name": "julia",
   "version": "1.0.1"
  }
 },
 "nbformat": 4,
 "nbformat_minor": 2
}
