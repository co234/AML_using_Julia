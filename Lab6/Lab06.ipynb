{
 "cells": [
  {
   "cell_type": "markdown",
   "metadata": {},
   "source": [
    "## Tutorial 6 - Matrix factorization"
   ]
  },
  {
   "cell_type": "markdown",
   "metadata": {},
   "source": [
    "**Objectives:**\n",
    "\n",
    "* To implement the constrained linear logistic regression.\n",
    "\n",
    "\n",
    "**Instructions:**\n",
    "   \n",
    "* If you are using Jupyter intalled on your computer, Go to File->Open. Drag and drop \"lab3.ipynb\" file to the home interface and click upload. \n",
    "* If you are using Google Colaboratory, Click File->Upload notebook, and and upload \"lab3.ipynb\" file\n",
    "* Complete exercises in \"Lab03.ipynb\".\n",
    "* To run the cell you can press Ctrl-Enter or hit the Play button at the top.\n",
    "* Complete all exercises marked with **TODO**.\n",
    "* Save your file when you are done with the exercises, so you can show your tutor next week.\n",
    "\n",
    "\n",
    "**Authors**\n",
    "* Kloe and Lydia\n",
    "* Adapted from COMP5328 at USYD in 2018 S2"
   ]
  },
  {
   "cell_type": "markdown",
   "metadata": {},
   "source": [
    "## 1. Matrix Factorization (MF)"
   ]
  },
  {
   "cell_type": "markdown",
   "metadata": {},
   "source": [
    "We want to solve the following matrix factorization problem:\n",
    "\\begin{equation}\n",
    "\\mathbf{R} \\approx \\mathbf{P} \\times \\mathbf{Q}^T = \\hat{\\mathbf{R}}\n",
    "\\end{equation}\n",
    "Element in the original matrix is then estimated via\n",
    "\\begin{equation}\n",
    "\\hat{r_{ij}} = p_i^T q_j = \\sum_{k=1}^K p_{ik} q_{kj}\n",
    "\\end{equation}\n",
    "Here let us first consider a gradient descent optimization method:\n",
    "\n",
    "In an online fashion, we optimize the following reconstruction error with regularization\n",
    "\\begin{equation}\n",
    "e_{ij}^2 = (r_{ij}-\\sum_{k=1}^K p_{ik} q_{kj})^2 + \\frac{\\beta}{2} \\sum_{k=1}^K ({p_{ik}}^2+{q_{kj}}^2)\n",
    "\\end{equation}\n",
    "The gradient descent update rules are as follows\n",
    "\\begin{equation}\n",
    "p_{ik}' = p_{ik}-\\alpha \\frac{\\partial}{\\partial p_{ik}}e_{ij}^2 = p_{ik}+\\alpha(2(r_{ij}-\\sum_{k=1}^K p_{ik} q_{kj})q_{kj}-\\beta p_{ik})\n",
    "\\end{equation}\n",
    "\\begin{equation}\n",
    "q_{kj}' = q_{kj}-\\alpha \\frac{\\partial}{\\partial q_{kj}}e_{ij}^2 = q_{kj}+\\alpha(2(r_{ij}-\\sum_{k=1}^K p_{ik} q_{kj})p_{ik}-\\beta q_{kj})\n",
    "\\end{equation}"
   ]
  },
  {
   "cell_type": "markdown",
   "metadata": {},
   "source": [
    "** Define a matrix factorization function **\n",
    "\n",
    "** Input:**\n",
    "\n",
    "* $\\mathbf{R}$: the matrix to be factorized, dimension $N \\times M$\n",
    "* $\\mathbf{P}$: an initial matrix of dimension $N \\times K$\n",
    "* $\\mathbf{Q}$: an initial matrix of dimension $M \\times K$\n",
    "* $K$: the number of latent features\n",
    "* steps: the maximum number of steps to perform the optimisation\n",
    "* alpha: the learning rate\n",
    "* beta: the regularization parameter\n",
    "\n",
    "** Output:**\n",
    "* the final matrices $\\mathbf{P}$ and $\\mathbf{Q}$"
   ]
  },
  {
   "cell_type": "code",
   "execution_count": 1,
   "metadata": {},
   "outputs": [
    {
     "data": {
      "text/plain": [
       "matrix_factorisation (generic function with 4 methods)"
      ]
     },
     "execution_count": 1,
     "metadata": {},
     "output_type": "execute_result"
    }
   ],
   "source": [
    "#TODO:             \n",
    "function matrix_factorisation(R,P,Q,K,steps=500,alpha = 0.0002,beta=0.02)\n",
    "    Q = Q'\n",
    "    for step in 1:steps\n",
    "        for i in 1:length(R)\n",
    "            for j in 1:length(R[i])\n",
    "                if R[i][j] > 0\n",
    "                    eij = R[i][j] - dot(P[i,:],Q[:,j])\n",
    "                    for k in 1:K\n",
    "                        P[i][k] = P[i][k] + alpha*(2*eij*Q[k][j] - beta*P[i][k])\n",
    "                        Q[k][j] = Q[k][j] + alpha*(2*eij*P[i][k] - beta*Q[k][j])\n",
    "                    end\n",
    "                end\n",
    "            end\n",
    "        end\n",
    "    end\n",
    "end\n",
    "                        "
   ]
  },
  {
   "cell_type": "markdown",
   "metadata": {},
   "source": [
    "Enter the matrix we want to factorize:"
   ]
  },
  {
   "cell_type": "code",
   "execution_count": null,
   "metadata": {},
   "outputs": [],
   "source": [
    "#TODO:\n"
   ]
  },
  {
   "cell_type": "code",
   "execution_count": null,
   "metadata": {},
   "outputs": [],
   "source": [
    "#TODO:"
   ]
  },
  {
   "cell_type": "markdown",
   "metadata": {},
   "source": [
    "Test the MF function"
   ]
  },
  {
   "cell_type": "code",
   "execution_count": null,
   "metadata": {},
   "outputs": [],
   "source": [
    "#TODO:"
   ]
  },
  {
   "cell_type": "markdown",
   "metadata": {},
   "source": [
    "** Exercise: **\n",
    "\n",
    "For non-negtive matrix factorization, try multiplicative update rule:\n",
    "\\begin{equation}\n",
    "\\mathbf{P}_{ij} = \\mathbf{P}_{ij} \\frac{(\\mathbf{R}\\mathbf{Q})_{ij}}{(\\mathbf{P}\\mathbf{Q}^T\\mathbf{Q})_{ij}}\n",
    "\\end{equation}\n",
    "\\begin{equation}\n",
    "\\mathbf{Q}^T_{ij} = \\mathbf{Q}^T_{ij} \\frac{(\\mathbf{P}^T\\mathbf{R})_{ij}}{(\\mathbf{P}^T\\mathbf{P}\\mathbf{Q}^T)_{ij}}\n",
    "\\end{equation}"
   ]
  },
  {
   "cell_type": "code",
   "execution_count": null,
   "metadata": {},
   "outputs": [],
   "source": [
    "#TODO:"
   ]
  },
  {
   "cell_type": "code",
   "execution_count": null,
   "metadata": {},
   "outputs": [],
   "source": [
    "#TODO:"
   ]
  }
 ],
 "metadata": {
  "kernelspec": {
   "display_name": "Julia 1.0.0",
   "language": "julia",
   "name": "julia-1.0"
  },
  "language_info": {
   "file_extension": ".jl",
   "mimetype": "application/julia",
   "name": "julia",
   "version": "1.0.0"
  }
 },
 "nbformat": 4,
 "nbformat_minor": 2
}
